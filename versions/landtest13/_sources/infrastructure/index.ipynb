{
 "cells": [
  {
   "cell_type": "markdown",
   "id": "8fcdc2ce-60ea-4f46-8209-87f10f7243da",
   "metadata": {
    "papermill": {
     "duration": 0.004078,
     "end_time": "2025-03-07T16:50:40.192032",
     "exception": false,
     "start_time": "2025-03-07T16:50:40.187954",
     "status": "completed"
    },
    "tags": []
   },
   "source": [
    "# Index homepage!"
   ]
  },
  {
   "cell_type": "code",
   "execution_count": null,
   "id": "c0d95e5f-b3c2-4647-b3f8-36a072964613",
   "metadata": {
    "papermill": {
     "duration": 0.001478,
     "end_time": "2025-03-07T16:50:40.195951",
     "exception": false,
     "start_time": "2025-03-07T16:50:40.194473",
     "status": "completed"
    },
    "tags": [
     "parameters"
    ]
   },
   "outputs": [],
   "source": []
  },
  {
   "cell_type": "code",
   "execution_count": 1,
   "id": "f2479e8d",
   "metadata": {
    "execution": {
     "iopub.execute_input": "2025-03-07T16:50:40.200379Z",
     "iopub.status.busy": "2025-03-07T16:50:40.199757Z",
     "iopub.status.idle": "2025-03-07T16:50:40.209933Z",
     "shell.execute_reply": "2025-03-07T16:50:40.209226Z"
    },
    "papermill": {
     "duration": 0.013797,
     "end_time": "2025-03-07T16:50:40.211244",
     "exception": false,
     "start_time": "2025-03-07T16:50:40.197447",
     "status": "completed"
    },
    "tags": [
     "injected-parameters"
    ]
   },
   "outputs": [],
   "source": [
    "# Parameters\n",
    "case_name = \"b.e30_beta02.BLT1850.ne30_t232.104\"\n",
    "base_case_name = \"b.e23_alpha17f.BLT1850.ne30_t232.092\"\n",
    "CESM_output_dir = \"/glade/campaign/cesm/development/cross-wg/diagnostic_framework/CESM_output_for_testing\"\n",
    "start_date = \"0001-01-01\"\n",
    "end_date = \"0101-01-01\"\n",
    "base_start_date = \"0001-01-01\"\n",
    "base_end_date = \"0101-01-01\"\n",
    "obs_data_dir = (\n",
    "    \"/glade/campaign/cesm/development/cross-wg/diagnostic_framework/CUPiD_obs_data\"\n",
    ")\n",
    "lc_kwargs = {\"threads_per_worker\": 1}\n",
    "serial = False\n",
    "subset_kwargs = {}\n",
    "product = \"/glade/work/tking/cupid_project/other_cupids/mike_cupid/CUPiD/examples/key_metrics/computed_notebooks//infrastructure/index.ipynb\"\n"
   ]
  }
 ],
 "metadata": {
  "kernelspec": {
   "display_name": "Python 3 (ipykernel)",
   "language": "python",
   "name": "cupid-analysis"
  },
  "language_info": {
   "codemirror_mode": {
    "name": "ipython",
    "version": 3
   },
   "file_extension": ".py",
   "mimetype": "text/x-python",
   "name": "python",
   "nbconvert_exporter": "python",
   "pygments_lexer": "ipython3",
   "version": "3.11.4"
  },
  "papermill": {
   "duration": 14.115854,
   "end_time": "2025-03-07T16:50:40.431627",
   "exception": null,
   "input_path": "/glade/derecho/scratch/tking/tmp/tmp0o3f9pz3.ipynb",
   "output_path": "/glade/work/tking/cupid_project/other_cupids/mike_cupid/CUPiD/examples/key_metrics/computed_notebooks/infrastructure/index.ipynb",
   "parameters": {
    "CESM_output_dir": "/glade/campaign/cesm/development/cross-wg/diagnostic_framework/CESM_output_for_testing",
    "base_case_name": "b.e23_alpha17f.BLT1850.ne30_t232.092",
    "base_end_date": "0101-01-01",
    "base_start_date": "0001-01-01",
    "case_name": "b.e30_beta02.BLT1850.ne30_t232.104",
    "end_date": "0101-01-01",
    "lc_kwargs": {
     "threads_per_worker": 1
    },
    "obs_data_dir": "/glade/campaign/cesm/development/cross-wg/diagnostic_framework/CUPiD_obs_data",
    "product": "/glade/work/tking/cupid_project/other_cupids/mike_cupid/CUPiD/examples/key_metrics/computed_notebooks//infrastructure/index.ipynb",
    "serial": false,
    "start_date": "0001-01-01",
    "subset_kwargs": {}
   },
   "start_time": "2025-03-07T16:50:26.315773"
  }
 },
 "nbformat": 4,
 "nbformat_minor": 5
}