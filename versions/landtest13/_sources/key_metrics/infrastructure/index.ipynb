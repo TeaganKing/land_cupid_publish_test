{
 "cells": [
  {
   "cell_type": "markdown",
   "id": "8fcdc2ce-60ea-4f46-8209-87f10f7243da",
   "metadata": {
    "papermill": {
     "duration": 0.001825,
     "end_time": "2024-08-29T21:44:06.040538",
     "exception": false,
     "start_time": "2024-08-29T21:44:06.038713",
     "status": "completed"
    },
    "tags": []
   },
   "source": [
    "# Index homepage!"
   ]
  },
  {
   "cell_type": "code",
   "execution_count": null,
   "id": "c0d95e5f-b3c2-4647-b3f8-36a072964613",
   "metadata": {
    "papermill": {
     "duration": 0.001006,
     "end_time": "2024-08-29T21:44:06.043503",
     "exception": false,
     "start_time": "2024-08-29T21:44:06.042497",
     "status": "completed"
    },
    "tags": [
     "parameters"
    ]
   },
   "outputs": [],
   "source": []
  },
  {
   "cell_type": "code",
   "execution_count": 1,
   "id": "72f024db",
   "metadata": {
    "execution": {
     "iopub.execute_input": "2024-08-29T21:44:06.047027Z",
     "iopub.status.busy": "2024-08-29T21:44:06.046469Z",
     "iopub.status.idle": "2024-08-29T21:44:06.059489Z",
     "shell.execute_reply": "2024-08-29T21:44:06.058452Z"
    },
    "papermill": {
     "duration": 0.016124,
     "end_time": "2024-08-29T21:44:06.060655",
     "exception": false,
     "start_time": "2024-08-29T21:44:06.044531",
     "status": "completed"
    },
    "tags": [
     "injected-parameters"
    ]
   },
   "outputs": [],
   "source": [
    "# Parameters\n",
    "case_name = \"b.e30_beta02.BLT1850.ne30_t232.104\"\n",
    "base_case_name = \"b.e23_alpha17f.BLT1850.ne30_t232.092\"\n",
    "CESM_output_dir = \"/glade/campaign/cesm/development/cross-wg/diagnostic_framework/CESM_output_for_testing\"\n",
    "start_date = \"0001-01-01\"\n",
    "end_date = \"0101-01-01\"\n",
    "lc_kwargs = {\"threads_per_worker\": 1}\n",
    "serial = False\n",
    "subset_kwargs = {}\n",
    "product = \"/glade/work/tking/cupid_project/other_cupids/mike_cupid/CUPiD/examples/key_metrics/computed_notebooks/key_metrics/infrastructure/index.ipynb\"\n"
   ]
  }
 ],
 "metadata": {
  "kernelspec": {
   "display_name": "Python 3 (ipykernel)",
   "language": "python",
   "name": "cupid-analysis"
  },
  "language_info": {
   "codemirror_mode": {
    "name": "ipython",
    "version": 3
   },
   "file_extension": ".py",
   "mimetype": "text/x-python",
   "name": "python",
   "nbconvert_exporter": "python",
   "pygments_lexer": "ipython3",
   "version": "3.11.4"
  },
  "papermill": {
   "duration": 2.623147,
   "end_time": "2024-08-29T21:44:07.079509",
   "exception": null,
   "input_path": "/glade/derecho/scratch/tking/tmp/tmpeg7z15ez.ipynb",
   "output_path": "/glade/work/tking/cupid_project/other_cupids/mike_cupid/CUPiD/examples/key_metrics/computed_notebooks/key_metrics/infrastructure/index.ipynb",
   "parameters": {
    "CESM_output_dir": "/glade/campaign/cesm/development/cross-wg/diagnostic_framework/CESM_output_for_testing",
    "base_case_name": "b.e23_alpha17f.BLT1850.ne30_t232.092",
    "case_name": "b.e30_beta02.BLT1850.ne30_t232.104",
    "end_date": "0101-01-01",
    "lc_kwargs": {
     "threads_per_worker": 1
    },
    "product": "/glade/work/tking/cupid_project/other_cupids/mike_cupid/CUPiD/examples/key_metrics/computed_notebooks/key_metrics/infrastructure/index.ipynb",
    "serial": false,
    "start_date": "0001-01-01",
    "subset_kwargs": {}
   },
   "start_time": "2024-08-29T21:44:04.456362"
  }
 },
 "nbformat": 4,
 "nbformat_minor": 5
}